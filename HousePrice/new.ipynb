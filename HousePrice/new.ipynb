{
 "cells": [
  {
   "cell_type": "code",
   "id": "initial_id",
   "metadata": {
    "collapsed": true,
    "ExecuteTime": {
     "end_time": "2024-06-27T17:39:41.123432Z",
     "start_time": "2024-06-27T17:39:41.114133Z"
    }
   },
   "source": [
    "import pandas as pd\n",
    "import numpy as np\n",
    "\n",
    "from sklearn.preprocessing import LabelEncoder, OneHotEncoder, StandardScaler\n",
    "from sklearn.impute import SimpleImputer\n",
    "\n",
    "from sklearn.model_selection import train_test_split, GridSearchCV\n",
    "from xgboost import XGBRegressor\n",
    "\n",
    "from sklearn.pipeline import Pipeline\n",
    "from sklearn.compose import ColumnTransformer\n",
    "\n",
    "import warnings\n",
    "\n",
    "warnings.filterwarnings(\"ignore\")"
   ],
   "outputs": [],
   "execution_count": 736
  },
  {
   "metadata": {
    "ExecuteTime": {
     "end_time": "2024-06-27T17:39:41.246166Z",
     "start_time": "2024-06-27T17:39:41.240861Z"
    }
   },
   "cell_type": "code",
   "source": [
    "# train_file_path = \"/kaggle/input/house-prices-advanced-regression-techniques/train.csv\"\n",
    "# test_file_path = \"/kaggle/input/house-prices-advanced-regression-techniques/test.csv\"\n",
    "\n",
    "train_file_path = \"data/train.csv\"\n",
    "test_file_path = \"data/test.csv\""
   ],
   "id": "57e77d1c0c7672e5",
   "outputs": [],
   "execution_count": 737
  },
  {
   "metadata": {
    "ExecuteTime": {
     "end_time": "2024-06-27T17:39:41.304263Z",
     "start_time": "2024-06-27T17:39:41.254670Z"
    }
   },
   "cell_type": "code",
   "source": [
    "data = pd.read_csv(train_file_path)\n",
    "test = pd.read_csv(test_file_path)"
   ],
   "id": "7795e667f268c22f",
   "outputs": [],
   "execution_count": 738
  },
  {
   "metadata": {},
   "cell_type": "markdown",
   "source": "Calculate the limits for each variable",
   "id": "c3f664708c129559"
  },
  {
   "metadata": {
    "ExecuteTime": {
     "end_time": "2024-06-27T17:39:41.316534Z",
     "start_time": "2024-06-27T17:39:41.309937Z"
    }
   },
   "cell_type": "code",
   "source": [
    "def remove_outliers(data, column, m=3):\n",
    "    mean = np.mean(data[column])\n",
    "    std_dev = np.std(data[column])\n",
    "    lower_bound = mean - m * std_dev\n",
    "    upper_bound = mean + m * std_dev\n",
    "    return lower_bound, upper_bound"
   ],
   "id": "520420fcff90739",
   "outputs": [],
   "execution_count": 739
  },
  {
   "metadata": {},
   "cell_type": "markdown",
   "source": "Interest column (SalePrice) to remove outliers",
   "id": "4c86089190158aaf"
  },
  {
   "metadata": {
    "ExecuteTime": {
     "end_time": "2024-06-27T17:39:41.330032Z",
     "start_time": "2024-06-27T17:39:41.321723Z"
    }
   },
   "cell_type": "code",
   "source": [
    "Q1 = data['SalePrice'].quantile(0.25)\n",
    "Q3 = data['SalePrice'].quantile(0.75)\n",
    "IQR = Q3 - Q1"
   ],
   "id": "2a6ba4070fb418d8",
   "outputs": [],
   "execution_count": 740
  },
  {
   "metadata": {},
   "cell_type": "markdown",
   "source": "Set the thresholds to consider a point as an outlier and remove them",
   "id": "da94579c20b5d244"
  },
  {
   "metadata": {
    "ExecuteTime": {
     "end_time": "2024-06-27T17:39:41.341730Z",
     "start_time": "2024-06-27T17:39:41.331892Z"
    }
   },
   "cell_type": "code",
   "source": [
    "lower_bound = Q1 - 0.3 * IQR\n",
    "upper_bound = Q3 + 0.3 * IQR\n",
    "\n",
    "data = data[(data['SalePrice'] >= lower_bound) & (data['SalePrice'] <= upper_bound)]"
   ],
   "id": "88946ec079c20d58",
   "outputs": [],
   "execution_count": 741
  },
  {
   "metadata": {},
   "cell_type": "markdown",
   "source": "Define the variable columns of interest and set the standard deviation threshold to 3",
   "id": "7c9181bcb9bdb37e"
  },
  {
   "metadata": {
    "ExecuteTime": {
     "end_time": "2024-06-27T17:39:41.348394Z",
     "start_time": "2024-06-27T17:39:41.344616Z"
    }
   },
   "cell_type": "code",
   "source": [
    "columns = [\"YearBuilt\", \"GarageYrBlt\", \"GrLivArea\", \"GarageArea\", \"OverallQual\", \"SalePrice\"]\n",
    "\n",
    "m = 3"
   ],
   "id": "6823aded308d394d",
   "outputs": [],
   "execution_count": 742
  },
  {
   "metadata": {},
   "cell_type": "markdown",
   "source": "Calculate limits for each variable and remove outliers",
   "id": "d1374ce00b10e9dd"
  },
  {
   "metadata": {
    "ExecuteTime": {
     "end_time": "2024-06-27T17:39:41.427423Z",
     "start_time": "2024-06-27T17:39:41.418096Z"
    }
   },
   "cell_type": "code",
   "source": [
    "for column in columns:\n",
    "    lower_bound, upper_bound = remove_outliers(data, column, m)\n",
    "    data = data[(data[column] >= lower_bound) & (data[column] <= upper_bound)]"
   ],
   "id": "279eb6c2857990f7",
   "outputs": [],
   "execution_count": 743
  },
  {
   "metadata": {},
   "cell_type": "markdown",
   "source": "Reset the index of the data",
   "id": "3725638524b06a18"
  },
  {
   "metadata": {
    "ExecuteTime": {
     "end_time": "2024-06-27T17:39:41.435122Z",
     "start_time": "2024-06-27T17:39:41.431626Z"
    }
   },
   "cell_type": "code",
   "source": "data.reset_index(drop=True, inplace=True)",
   "id": "d440babcc4478492",
   "outputs": [],
   "execution_count": 744
  },
  {
   "metadata": {},
   "cell_type": "markdown",
   "source": "# Feature Engineering",
   "id": "a4fef6015c70cf57"
  },
  {
   "metadata": {},
   "cell_type": "markdown",
   "source": "Create the label encoder object and apply it",
   "id": "65738884ab446763"
  },
  {
   "metadata": {
    "ExecuteTime": {
     "end_time": "2024-06-27T17:39:41.475497Z",
     "start_time": "2024-06-27T17:39:41.469710Z"
    }
   },
   "cell_type": "code",
   "source": [
    "Label_pre = LabelEncoder()\n",
    "data_cols = data.select_dtypes(exclude=['int', 'float']).columns\n",
    "label_col = list(data_cols)"
   ],
   "id": "55a6515cc904106e",
   "outputs": [],
   "execution_count": 745
  },
  {
   "metadata": {
    "ExecuteTime": {
     "end_time": "2024-06-27T17:39:41.506525Z",
     "start_time": "2024-06-27T17:39:41.488460Z"
    }
   },
   "cell_type": "code",
   "source": "data[label_col] = data[label_col].apply(lambda col: Label_pre.fit_transform(col))",
   "id": "c47bb0359cdfeaa4",
   "outputs": [],
   "execution_count": 746
  },
  {
   "metadata": {},
   "cell_type": "markdown",
   "source": "Mapping data to convert categorical to numerical",
   "id": "1aef9194e9dece4a"
  },
  {
   "metadata": {
    "ExecuteTime": {
     "end_time": "2024-06-27T17:39:41.580443Z",
     "start_time": "2024-06-27T17:39:41.509232Z"
    }
   },
   "cell_type": "code",
   "source": [
    "def map_values(dataset):\n",
    "    dataset[\"MSSubClass\"] = dataset.MSSubClass.map({'180': 1,\n",
    "                                                    '30': 2, '45': 2,\n",
    "                                                    '190': 3, '50': 3, '90': 3,\n",
    "                                                    '85': 4, '40': 4, '160': 4,\n",
    "                                                    '70': 5, '20': 5, '75': 5, '80': 5, '150': 5,\n",
    "                                                    '120': 6, '60': 6})\n",
    "\n",
    "    dataset[\"MSZoning\"] = dataset.MSZoning.map({'C (all)': 1, 'RH': 2, 'RM': 2, 'RL': 3, 'FV': 4})\n",
    "\n",
    "    dataset[\"Neighborhood\"] = dataset.Neighborhood.map({'MeadowV': 1,\n",
    "                                                        'IDOTRR': 2, 'BrDale': 2,\n",
    "                                                        'OldTown': 3, 'Edwards': 3, 'BrkSide': 3,\n",
    "                                                        'Sawyer': 4, 'Blueste': 4, 'SWISU': 4, 'NAmes': 4,\n",
    "                                                        'NPkVill': 5, 'Mitchel': 5,\n",
    "                                                        'SawyerW': 6, 'Gilbert': 6, 'NWAmes': 6,\n",
    "                                                        'Blmngtn': 7, 'CollgCr': 7, 'ClearCr': 7, 'Crawfor': 7,\n",
    "                                                        'Veenker': 8, 'Somerst': 8, 'Timber': 8,\n",
    "                                                        'StoneBr': 9,\n",
    "                                                        'NoRidge': 10, 'NridgHt': 10})\n",
    "\n",
    "    dataset[\"Condition1\"] = dataset.Condition1.map({'Artery': 1,\n",
    "                                                    'Feedr': 2, 'RRAe': 2,\n",
    "                                                    'Norm': 3, 'RRAn': 3,\n",
    "                                                    'PosN': 4, 'RRNe': 4,\n",
    "                                                    'PosA': 5, 'RRNn': 5})\n",
    "\n",
    "    dataset[\"BldgType\"] = dataset.BldgType.map({'2fmCon': 1, 'Duplex': 1, 'Twnhs': 1, '1Fam': 2, 'TwnhsE': 2})\n",
    "\n",
    "    dataset[\"HouseStyle\"] = dataset.HouseStyle.map({'1.5Unf': 1,\n",
    "                                                    '1.5Fin': 2, '2.5Unf': 2, 'SFoyer': 2,\n",
    "                                                    '1Story': 3, 'SLvl': 3,\n",
    "                                                    '2Story': 4, '2.5Fin': 4})\n",
    "\n",
    "    dataset[\"Exterior1st\"] = dataset.Exterior1st.map({'BrkComm': 1,\n",
    "                                                      'AsphShn': 2, 'CBlock': 2, 'AsbShng': 2,\n",
    "                                                      'WdShing': 3, 'Wd Sdng': 3, 'MetalSd': 3, 'Stucco': 3,\n",
    "                                                      'HdBoard': 3,\n",
    "                                                      'BrkFace': 4, 'Plywood': 4,\n",
    "                                                      'VinylSd': 5,\n",
    "                                                      'CemntBd': 6,\n",
    "                                                      'Stone': 7, 'ImStucc': 7})\n",
    "\n",
    "    dataset[\"MasVnrType\"] = dataset.MasVnrType.map({'BrkCmn': 1, 'None': 1, 'BrkFace': 2, 'Stone': 3})\n",
    "\n",
    "    dataset[\"ExterQual\"] = dataset.ExterQual.map({'Fa': 1, 'TA': 2, 'Gd': 3, 'Ex': 4})\n",
    "\n",
    "    dataset[\"Foundation\"] = dataset.Foundation.map({'Slab': 1,\n",
    "                                                    'BrkTil': 2, 'CBlock': 2, 'Stone': 2,\n",
    "                                                    'Wood': 3, 'PConc': 4})\n",
    "\n",
    "    dataset[\"BsmtQual\"] = dataset.BsmtQual.map({'Fa': 2, 'None': 1, 'TA': 3, 'Gd': 4, 'Ex': 5})\n",
    "\n",
    "    dataset[\"BsmtExposure\"] = dataset.BsmtExposure.map({'None': 1, 'No': 2, 'Av': 3, 'Mn': 3, 'Gd': 4})\n",
    "\n",
    "    dataset[\"Heating\"] = dataset.Heating.map({'Floor': 1, 'Grav': 1, 'Wall': 2, 'OthW': 3, 'GasW': 4, 'GasA': 5})\n",
    "\n",
    "    dataset[\"HeatingQC\"] = dataset.HeatingQC.map({'Po': 1, 'Fa': 2, 'TA': 3, 'Gd': 4, 'Ex': 5})\n",
    "\n",
    "    dataset[\"KitchenQual\"] = dataset.KitchenQual.map({'Fa': 1, 'TA': 2, 'Gd': 3, 'Ex': 4})\n",
    "\n",
    "    dataset[\"Functional\"] = dataset.Functional.map(\n",
    "        {'Maj2': 1, 'Maj1': 2, 'Min1': 2, 'Min2': 2, 'Mod': 2, 'Sev': 2, 'Typ': 3})\n",
    "\n",
    "    dataset[\"FireplaceQu\"] = dataset.FireplaceQu.map({'None': 1, 'Po': 1, 'Fa': 2, 'TA': 3, 'Gd': 4, 'Ex': 5})\n",
    "\n",
    "    dataset[\"GarageType\"] = dataset.GarageType.map({'CarPort': 1, 'None': 1,\n",
    "                                                    'Detchd': 2,\n",
    "                                                    '2Types': 3, 'Basment': 3,\n",
    "                                                    'Attchd': 4, 'BuiltIn': 5})\n",
    "\n",
    "    dataset[\"GarageFinish\"] = dataset.GarageFinish.map({'None': 1, 'Unf': 2, 'RFn': 3, 'Fin': 4})\n",
    "\n",
    "    dataset[\"PavedDrive\"] = dataset.PavedDrive.map({'N': 1, 'P': 2, 'Y': 3})\n",
    "\n",
    "    dataset[\"SaleType\"] = dataset.SaleType.map({'COD': 1, 'ConLD': 1, 'ConLI': 1, 'ConLw': 1, 'Oth': 1, 'WD': 1,\n",
    "                                                'CWD': 2, 'Con': 3, 'New': 3})\n",
    "\n",
    "    dataset[\"SaleCondition\"] = dataset.SaleCondition.map(\n",
    "        {'AdjLand': 1, 'Abnorml': 2, 'Alloca': 2, 'Family': 2, 'Normal': 3, 'Partial': 4})\n",
    "\n",
    "    dataset[\"Street\"] = dataset.Street.map({'Grvl': 1, 'Pave': 2})\n",
    "\n",
    "    dataset[\"Alley\"] = dataset.Alley.map({'None': 1, 'Grvl': 2, 'Pave': 3})\n",
    "\n",
    "    dataset[\"LotShape\"] = dataset.LotShape.map({'Reg': 1, 'IR1': 2, 'IR2': 3, 'IR3': 4})\n",
    "\n",
    "    dataset[\"LandContour\"] = dataset.LandContour.map({'Bnk': 1, 'Lvl': 2, 'Low': 3, 'HLS': 4})\n",
    "\n",
    "    dataset[\"Utilities\"] = dataset.Utilities.map({'ELO': 1, 'NoSeWa': 2, 'NoSewr': 3, 'AllPub': 4})\n",
    "\n",
    "    dataset[\"LotConfig\"] = dataset.LotConfig.map({'Inside': 1, 'Corner': 2, 'FR2': 3, 'FR3': 4, 'CulDSac': 5})\n",
    "\n",
    "    dataset[\"LandSlope\"] = dataset.LandSlope.map({'Sev': 1, 'Mod': 2, 'Gtl': 3})\n",
    "\n",
    "    dataset[\"Condition1\"] = dataset.Condition1.map(\n",
    "        {'Artery': 1, 'Feedr': 2, 'RRAe': 3, 'Norm': 4, 'RRAn': 5, 'PosN': 6, 'PosA': 7, 'RRNe': 8, 'RRNn': 9})\n",
    "\n",
    "    dataset[\"Condition2\"] = dataset.Condition2.map(\n",
    "        {'Artery': 1, 'Feedr': 2, 'RRAe': 3, 'Norm': 4, 'RRAn': 5, 'PosN': 6, 'PosA': 7, 'RRNe': 8, 'RRNn': 9})\n",
    "\n",
    "    dataset[\"RoofStyle\"] = dataset.RoofStyle.map(\n",
    "        {'Flat': 1, 'Gable': 2, 'Gambrel': 3, 'Hip': 4, 'Mansard': 5, 'Shed': 6})\n",
    "\n",
    "    dataset[\"RoofMatl\"] = dataset.RoofMatl.map(\n",
    "        {'ClyTile': 1, 'CompShg': 2, 'Membran': 3, 'Metal': 4, 'Roll': 5, 'Tar&Grv': 6, 'WdShake': 7, 'WdShngl': 8})\n",
    "\n",
    "    dataset[\"Exterior1st\"] = dataset.Exterior1st.map(\n",
    "        {'AsbShng': 1, 'AsphShn': 2, 'BrkComm': 3, 'BrkFace': 4, 'CBlock': 5, 'CemntBd': 6, 'HdBoard': 7, 'ImStucc': 8,\n",
    "         'MetalSd': 9, 'Other': 10, 'Plywood': 11, 'PreCast': 12, 'Stone': 13, 'Stucco': 14, 'VinylSd': 15,\n",
    "         'Wd Sdng': 16, 'WdShing': 17})\n",
    "\n",
    "    dataset[\"Exterior2nd\"] = dataset.Exterior2nd.map(\n",
    "        {'AsbShng': 1, 'AsphShn': 2, 'Brk Cmn': 3, 'BrkFace': 4, 'CBlock': 5, 'CmentBd': 6, 'HdBoard': 7, 'ImStucc': 8,\n",
    "         'MetalSd': 9, 'Other': 10, 'Plywood': 11, 'PreCast': 12, 'Stone': 13, 'Stucco': 14, 'VinylSd': 15,\n",
    "         'Wd Sdng': 16, 'Wd Shng': 17})\n",
    "\n",
    "    dataset[\"MasVnrType\"] = dataset.MasVnrType.map({'BrkCmn': 1, 'BrkFace': 2, 'CBlock': 3, 'None': 4, 'Stone': 5})\n",
    "\n",
    "    dataset[\"ExterQual\"] = dataset.ExterQual.map({'Ex': 1, 'Gd': 2, 'TA': 3, 'Fa': 4, 'Po': 5})\n",
    "\n",
    "    dataset[\"ExterQual\"] = dataset.ExterQual.map({'Ex': 1, 'Gd': 2, 'TA': 3, 'Fa': 4, 'Po': 5})\n",
    "\n",
    "    dataset[\"ExterCond\"] = dataset.ExterCond.map({'Ex': 1, 'Gd': 2, 'TA': 3, 'Fa': 4, 'Po': 5})\n",
    "\n",
    "    dataset[\"BsmtQual\"] = dataset.BsmtQual.map({'Ex': 1, 'Gd': 2, 'TA': 3, 'Fa': 4, 'Po': 5, 'None': 6})\n",
    "\n",
    "    dataset[\"BsmtCond\"] = dataset.BsmtCond.map({'Ex': 1, 'Gd': 2, 'TA': 3, 'Fa': 4, 'Po': 5, 'None': 6})\n",
    "\n",
    "    dataset[\"BsmtFinType1\"] = dataset.BsmtFinType1.map(\n",
    "        {'GLQ': 1, 'ALQ': 2, 'BLQ': 3, 'Rec': 4, 'LwQ': 5, 'Unf': 6, 'None': 7})\n",
    "\n",
    "    dataset[\"BsmtFinType2\"] = dataset.BsmtFinType2.map(\n",
    "        {'GLQ': 1, 'ALQ': 2, 'BLQ': 3, 'Rec': 4, 'LwQ': 5, 'Unf': 6, 'None': 7})\n",
    "\n",
    "    dataset[\"HeatingQC\"] = dataset.HeatingQC.map({'Ex': 1, 'Gd': 2, 'TA': 3, 'Fa': 4, 'Po': 5})\n",
    "\n",
    "    dataset[\"CentralAir\"] = dataset.CentralAir.map({'N': 0, 'Y': 1})\n",
    "\n",
    "    dataset[\"Electrical\"] = dataset.Electrical.map({'SBrkr': 1, 'FuseA': 2, 'FuseF': 3, 'FuseP': 4, 'Mix': 5})\n",
    "\n",
    "    dataset[\"KitchenQual\"] = dataset.KitchenQual.map({'Ex': 1, 'Gd': 2, 'TA': 3, 'Fa': 4, 'Po': 5})\n",
    "\n",
    "    dataset[\"Functional\"] = dataset.Functional.map(\n",
    "        {'Typ': 1, 'Min1': 2, 'Min2': 3, 'Mod': 4, 'Maj1': 5, 'Maj2': 6, 'Sev': 7, 'Sal': 8})\n",
    "\n",
    "    dataset[\"FireplaceQu\"] = dataset.FireplaceQu.map({'Ex': 1, 'Gd': 2, 'TA': 3, 'Fa': 4, 'Po': 5, 'None': 6})\n",
    "\n",
    "    dataset[\"GarageType\"] = dataset.GarageType.map(\n",
    "        {'2Types': 1, 'Attchd': 2, 'Basment': 3, 'BuiltIn': 4, 'CarPort': 5, 'Detchd': 6, 'None': 7})\n",
    "\n",
    "    dataset[\"GarageFinish\"] = dataset.GarageFinish.map({'Fin': 1, 'RFn': 2, 'Unf': 3, 'None': 4})\n",
    "\n",
    "    dataset[\"GarageQual\"] = dataset.GarageQual.map({'Ex': 1, 'Gd': 2, 'TA': 3, 'Fa': 4, 'Po': 5, 'None': 6})\n",
    "\n",
    "    dataset[\"GarageCond\"] = dataset.GarageCond.map({'Ex': 1, 'Gd': 2, 'TA': 3, 'Fa': 4, 'Po': 5, 'None': 6})\n",
    "\n",
    "    dataset[\"PavedDrive\"] = dataset.PavedDrive.map({'Y': 1, 'P': 2, 'N': 3})\n",
    "\n",
    "    dataset[\"PoolQC\"] = dataset.PoolQC.map({'Ex': 1, 'Gd': 2, 'TA': 3, 'Fa': 4, 'None': 5})\n",
    "\n",
    "    dataset[\"Fence\"] = dataset.Fence.map({'GdPrv': 1, 'MnPrv': 2, 'GdWo': 3, 'MnWw': 4, 'None': 5})\n",
    "\n",
    "    dataset[\"MiscFeature\"] = dataset.MiscFeature.map({'Elev': 1, 'Gar2': 2, 'Othr': 3, 'Shed': 4, 'TenC': 5, 'None': 6})\n",
    "\n",
    "    dataset[\"SaleType\"] = dataset.SaleType.map(\n",
    "        {'WD': 1, 'CWD': 2, 'VWD': 3, 'New': 4, 'COD': 5, 'Con': 6, 'ConLw': 7, 'ConLI': 8, 'ConLD': 9, 'Oth': 10})\n",
    "\n",
    "    dataset[\"SaleCondition\"] = dataset.SaleCondition.map(\n",
    "        {'Normal': 1, 'Abnorml': 2, 'AdjLand': 3, 'Alloca': 4, 'Family': 5, 'Partial': 6})\n",
    "\n",
    "    return dataset\n",
    "\n",
    "\n",
    "data = map_values(data)\n",
    "test = map_values(test)"
   ],
   "id": "587478245d5c9dcd",
   "outputs": [],
   "execution_count": 747
  },
  {
   "metadata": {},
   "cell_type": "markdown",
   "source": "# Model training",
   "id": "a74b7d6f6c1db051"
  },
  {
   "metadata": {},
   "cell_type": "markdown",
   "source": "Selecting the columns for model training",
   "id": "4020f1c859fdfbb7"
  },
  {
   "metadata": {
    "ExecuteTime": {
     "end_time": "2024-06-27T17:39:41.596263Z",
     "start_time": "2024-06-27T17:39:41.585705Z"
    }
   },
   "cell_type": "code",
   "source": [
    "target = 'SalePrice'\n",
    "features = data.drop(columns=[target])\n",
    "labels = data[target]"
   ],
   "id": "9fe2871d1165157",
   "outputs": [],
   "execution_count": 748
  },
  {
   "metadata": {},
   "cell_type": "markdown",
   "source": "Separate Numeric and Categorical Columns",
   "id": "757b4195cdb6a7e1"
  },
  {
   "metadata": {
    "ExecuteTime": {
     "end_time": "2024-06-27T17:39:41.609711Z",
     "start_time": "2024-06-27T17:39:41.598150Z"
    }
   },
   "cell_type": "code",
   "source": [
    "numeric_features = features.select_dtypes(include=[np.number]).columns.tolist()\n",
    "categorical_features = features.select_dtypes(exclude=[np.number]).columns.tolist()"
   ],
   "id": "415ad676a981126b",
   "outputs": [],
   "execution_count": 749
  },
  {
   "metadata": {},
   "cell_type": "markdown",
   "source": "## Creating Pipelines",
   "id": "bf373c5da0deaab7"
  },
  {
   "metadata": {
    "ExecuteTime": {
     "end_time": "2024-06-27T17:39:41.806195Z",
     "start_time": "2024-06-27T17:39:41.798737Z"
    }
   },
   "cell_type": "code",
   "source": [
    "numeric_transformer = Pipeline(steps=[\n",
    "    ('imputer', SimpleImputer(strategy='mean')),\n",
    "    ('scaler', StandardScaler())])\n",
    "\n",
    "categorical_transformer = Pipeline(steps=[\n",
    "    ('imputer', SimpleImputer(strategy='most_frequent')),\n",
    "    ('encoder', OneHotEncoder(handle_unknown='ignore'))])\n",
    "\n",
    "preprocessor = ColumnTransformer(\n",
    "    transformers=[\n",
    "        ('num', numeric_transformer, numeric_features),\n",
    "        ('cat', categorical_transformer, categorical_features)])"
   ],
   "id": "2e4ba1a01330d767",
   "outputs": [],
   "execution_count": 750
  },
  {
   "metadata": {},
   "cell_type": "markdown",
   "source": "Splitting the data into training and testing sets",
   "id": "4d7bd9af8b105e50"
  },
  {
   "metadata": {
    "ExecuteTime": {
     "end_time": "2024-06-27T17:39:41.855307Z",
     "start_time": "2024-06-27T17:39:41.821679Z"
    }
   },
   "cell_type": "code",
   "source": [
    "X_train, X_test, y_train, y_test = train_test_split(features, labels, test_size=0.2, random_state=42)\n",
    "X_train = preprocessor.fit_transform(X_train)\n",
    "X_test = preprocessor.transform(X_test)"
   ],
   "id": "bf9245ba8d86b912",
   "outputs": [],
   "execution_count": 751
  },
  {
   "metadata": {},
   "cell_type": "markdown",
   "source": "# Using Regression Models",
   "id": "351663b2f26607d7"
  },
  {
   "metadata": {},
   "cell_type": "markdown",
   "source": "Using XGBRegressor model",
   "id": "79f6c703c7da0ad4"
  },
  {
   "metadata": {},
   "cell_type": "code",
   "outputs": [],
   "execution_count": null,
   "source": [
    "param_grid = {\n",
    "    'n_estimators': [100, 500, 1000],\n",
    "    'learning_rate': [0.01, 0.05, 0.1],\n",
    "    'max_depth': [3, 5, 7],\n",
    "    'colsample_bytree': [0.3, 0.7]\n",
    "}\n",
    "\n",
    "grid_search = GridSearchCV(estimator=XGBRegressor(), param_grid=param_grid, cv=3, scoring='neg_mean_squared_error',\n",
    "                           verbose=2, n_jobs=4)\n",
    "grid_search.fit(X_train, y_train,\n",
    "                eval_set=[(X_test, y_test)],\n",
    "                early_stopping_rounds=10,\n",
    "                verbose=True)\n",
    "best_model = grid_search.best_estimator_"
   ],
   "id": "8b4424ff33ec2ea5"
  },
  {
   "metadata": {
    "ExecuteTime": {
     "end_time": "2024-06-27T17:39:42.226158Z",
     "start_time": "2024-06-27T17:39:41.918522Z"
    }
   },
   "cell_type": "code",
   "source": [
    "# model = XGBRegressor()\n",
    "# model.fit(X_train, y_train)\n",
    "# predictions = best_model.predict(X_test)"
   ],
   "id": "13320081653a7089",
   "outputs": [],
   "execution_count": 753
  },
  {
   "metadata": {
    "ExecuteTime": {
     "end_time": "2024-06-27T17:39:42.256766Z",
     "start_time": "2024-06-27T17:39:42.227837Z"
    }
   },
   "cell_type": "code",
   "source": [
    "# sample_submission = pd.read_csv('/kaggle/input/house-prices-advanced-regression-techniques/sample_submission.csv')\n",
    "sample_submission = pd.read_csv('data/sample_submission.csv')\n",
    "\n",
    "test_preprocessed = preprocessor.transform(test)\n",
    "\n",
    "test_predictions = best_model.predict(test_preprocessed)\n",
    "\n",
    "sample_submission['SalePrice'] = test_predictions\n",
    "\n",
    "sample_submission.to_csv('submission.csv', index=False)"
   ],
   "id": "cb8759cecd1b4b84",
   "outputs": [
    {
     "name": "stdout",
     "output_type": "stream",
     "text": [
      "1459 1459\n"
     ]
    }
   ],
   "execution_count": 754
  }
 ],
 "metadata": {
  "kernelspec": {
   "display_name": "Python 3",
   "language": "python",
   "name": "python3"
  },
  "language_info": {
   "codemirror_mode": {
    "name": "ipython",
    "version": 2
   },
   "file_extension": ".py",
   "mimetype": "text/x-python",
   "name": "python",
   "nbconvert_exporter": "python",
   "pygments_lexer": "ipython2",
   "version": "2.7.6"
  }
 },
 "nbformat": 4,
 "nbformat_minor": 5
}
