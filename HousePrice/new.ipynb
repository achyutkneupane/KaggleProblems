{
 "cells": [
  {
   "cell_type": "code",
   "id": "initial_id",
   "metadata": {
    "collapsed": true,
    "ExecuteTime": {
     "end_time": "2024-06-27T17:35:07.137453Z",
     "start_time": "2024-06-27T17:35:07.089227Z"
    }
   },
   "source": [
    "import pandas as pd\n",
    "import numpy as np\n",
    "\n",
    "from sklearn.preprocessing import LabelEncoder, OneHotEncoder, StandardScaler\n",
    "from sklearn.impute import SimpleImputer\n",
    "\n",
    "from sklearn.model_selection import train_test_split\n",
    "from xgboost import XGBRegressor\n",
    "from sklearn.metrics import r2_score\n",
    "\n",
    "from sklearn.pipeline import Pipeline\n",
    "from sklearn.compose import ColumnTransformer\n",
    "\n",
    "import warnings\n",
    "warnings.filterwarnings(\"ignore\")"
   ],
   "outputs": [],
   "execution_count": 660
  },
  {
   "metadata": {
    "ExecuteTime": {
     "end_time": "2024-06-27T17:35:07.394694Z",
     "start_time": "2024-06-27T17:35:07.389988Z"
    }
   },
   "cell_type": "code",
   "source": [
    "# train_file_path = \"/kaggle/input/house-prices-advanced-regression-techniques/train.csv\"\n",
    "# test_file_path = \"/kaggle/input/house-prices-advanced-regression-techniques/test.csv\"\n",
    "\n",
    "train_file_path = \"data/train.csv\"\n",
    "test_file_path = \"data/test.csv\""
   ],
   "id": "57e77d1c0c7672e5",
   "outputs": [],
   "execution_count": 661
  },
  {
   "metadata": {
    "ExecuteTime": {
     "end_time": "2024-06-27T17:35:07.541126Z",
     "start_time": "2024-06-27T17:35:07.460981Z"
    }
   },
   "cell_type": "code",
   "source": [
    "data = pd.read_csv(train_file_path)\n",
    "test = pd.read_csv(test_file_path)"
   ],
   "id": "7795e667f268c22f",
   "outputs": [],
   "execution_count": 662
  },
  {
   "metadata": {},
   "cell_type": "markdown",
   "source": "Calculate the limits for each variable",
   "id": "c3f664708c129559"
  },
  {
   "metadata": {
    "ExecuteTime": {
     "end_time": "2024-06-27T17:35:07.560143Z",
     "start_time": "2024-06-27T17:35:07.554647Z"
    }
   },
   "cell_type": "code",
   "source": [
    "def remove_outliers(data, column, m=3):\n",
    "    mean = np.mean(data[column])\n",
    "    std_dev = np.std(data[column])\n",
    "    lower_bound = mean - m * std_dev\n",
    "    upper_bound = mean + m * std_dev\n",
    "    return lower_bound, upper_bound"
   ],
   "id": "520420fcff90739",
   "outputs": [],
   "execution_count": 663
  },
  {
   "metadata": {},
   "cell_type": "markdown",
   "source": "Interest column (SalePrice) to remove outliers",
   "id": "4c86089190158aaf"
  },
  {
   "metadata": {
    "ExecuteTime": {
     "end_time": "2024-06-27T17:35:07.686831Z",
     "start_time": "2024-06-27T17:35:07.656778Z"
    }
   },
   "cell_type": "code",
   "source": [
    "Q1 = data['SalePrice'].quantile(0.25)\n",
    "Q3 = data['SalePrice'].quantile(0.75)\n",
    "IQR = Q3 - Q1"
   ],
   "id": "2a6ba4070fb418d8",
   "outputs": [],
   "execution_count": 664
  },
  {
   "metadata": {},
   "cell_type": "markdown",
   "source": "Set the thresholds to consider a point as an outlier and remove them",
   "id": "da94579c20b5d244"
  },
  {
   "metadata": {
    "ExecuteTime": {
     "end_time": "2024-06-27T17:35:07.837324Z",
     "start_time": "2024-06-27T17:35:07.829669Z"
    }
   },
   "cell_type": "code",
   "source": [
    "lower_bound = Q1 - 0.3 * IQR\n",
    "upper_bound = Q3 + 0.3 * IQR\n",
    "\n",
    "data = data[(data['SalePrice'] >= lower_bound) & (data['SalePrice'] <= upper_bound)]"
   ],
   "id": "88946ec079c20d58",
   "outputs": [],
   "execution_count": 665
  },
  {
   "metadata": {},
   "cell_type": "markdown",
   "source": "Define the variable columns of interest and set the standard deviation threshold to 3",
   "id": "7c9181bcb9bdb37e"
  },
  {
   "metadata": {
    "ExecuteTime": {
     "end_time": "2024-06-27T17:35:07.894522Z",
     "start_time": "2024-06-27T17:35:07.889480Z"
    }
   },
   "cell_type": "code",
   "source": [
    "columns = [\"YearBuilt\", \"GarageYrBlt\", \"GrLivArea\", \"GarageArea\", \"OverallQual\", \"SalePrice\"]\n",
    "\n",
    "m = 3"
   ],
   "id": "6823aded308d394d",
   "outputs": [],
   "execution_count": 666
  },
  {
   "metadata": {},
   "cell_type": "markdown",
   "source": "Calculate limits for each variable and remove outliers",
   "id": "d1374ce00b10e9dd"
  },
  {
   "metadata": {
    "ExecuteTime": {
     "end_time": "2024-06-27T17:35:07.995467Z",
     "start_time": "2024-06-27T17:35:07.974706Z"
    }
   },
   "cell_type": "code",
   "source": [
    "for column in columns:\n",
    "    lower_bound, upper_bound = remove_outliers(data, column, m)\n",
    "    data = data[(data[column] >= lower_bound) & (data[column] <= upper_bound)]"
   ],
   "id": "279eb6c2857990f7",
   "outputs": [],
   "execution_count": 667
  },
  {
   "metadata": {},
   "cell_type": "markdown",
   "source": "Reset the index of the data",
   "id": "3725638524b06a18"
  },
  {
   "metadata": {
    "ExecuteTime": {
     "end_time": "2024-06-27T17:35:08.030548Z",
     "start_time": "2024-06-27T17:35:08.024938Z"
    }
   },
   "cell_type": "code",
   "source": "data.reset_index(drop=True, inplace=True)",
   "id": "d440babcc4478492",
   "outputs": [],
   "execution_count": 668
  },
  {
   "metadata": {},
   "cell_type": "markdown",
   "source": "# Feature Engineering",
   "id": "a4fef6015c70cf57"
  },
  {
   "metadata": {},
   "cell_type": "markdown",
   "source": "Create the label encoder object and apply it",
   "id": "65738884ab446763"
  },
  {
   "metadata": {
    "ExecuteTime": {
     "end_time": "2024-06-27T17:35:08.088252Z",
     "start_time": "2024-06-27T17:35:08.083400Z"
    }
   },
   "cell_type": "code",
   "source": [
    "Label_pre = LabelEncoder()\n",
    "data_cols=data.select_dtypes(exclude=['int','float']).columns\n",
    "label_col =list(data_cols)"
   ],
   "id": "55a6515cc904106e",
   "outputs": [],
   "execution_count": 669
  },
  {
   "metadata": {
    "ExecuteTime": {
     "end_time": "2024-06-27T17:35:08.184831Z",
     "start_time": "2024-06-27T17:35:08.148393Z"
    }
   },
   "cell_type": "code",
   "source": "data[label_col]=data[label_col].apply(lambda col:Label_pre.fit_transform(col))",
   "id": "c47bb0359cdfeaa4",
   "outputs": [],
   "execution_count": 670
  },
  {
   "metadata": {
    "ExecuteTime": {
     "end_time": "2024-06-27T17:35:08.622914Z",
     "start_time": "2024-06-27T17:35:08.605412Z"
    }
   },
   "cell_type": "code",
   "source": "print(data.shape)",
   "id": "1fbd1082ff2e15b6",
   "outputs": [
    {
     "name": "stdout",
     "output_type": "stream",
     "text": [
      "(1020, 81)\n"
     ]
    }
   ],
   "execution_count": 671
  },
  {
   "metadata": {},
   "cell_type": "markdown",
   "source": "# Model training",
   "id": "a74b7d6f6c1db051"
  },
  {
   "metadata": {},
   "cell_type": "markdown",
   "source": "Selecting the columns for model training",
   "id": "4020f1c859fdfbb7"
  },
  {
   "metadata": {
    "ExecuteTime": {
     "end_time": "2024-06-27T17:35:08.677882Z",
     "start_time": "2024-06-27T17:35:08.628387Z"
    }
   },
   "cell_type": "code",
   "source": [
    "target = 'SalePrice'\n",
    "features = data.drop(columns=[target])\n",
    "labels = data[target]"
   ],
   "id": "9fe2871d1165157",
   "outputs": [],
   "execution_count": 672
  },
  {
   "metadata": {},
   "cell_type": "markdown",
   "source": "Separate Numeric and Categorical Columns",
   "id": "757b4195cdb6a7e1"
  },
  {
   "metadata": {
    "ExecuteTime": {
     "end_time": "2024-06-27T17:35:08.776828Z",
     "start_time": "2024-06-27T17:35:08.764490Z"
    }
   },
   "cell_type": "code",
   "source": [
    "numeric_features = features.select_dtypes(include=[np.number]).columns.tolist()\n",
    "categorical_features = features.select_dtypes(exclude=[np.number]).columns.tolist()"
   ],
   "id": "415ad676a981126b",
   "outputs": [],
   "execution_count": 673
  },
  {
   "metadata": {},
   "cell_type": "markdown",
   "source": "## Creating Pipelines",
   "id": "bf373c5da0deaab7"
  },
  {
   "metadata": {
    "ExecuteTime": {
     "end_time": "2024-06-27T17:35:08.899292Z",
     "start_time": "2024-06-27T17:35:08.892726Z"
    }
   },
   "cell_type": "code",
   "source": [
    "numeric_transformer = Pipeline(steps=[\n",
    "    ('imputer', SimpleImputer(strategy='mean')),\n",
    "    ('scaler', StandardScaler())])\n",
    "\n",
    "categorical_transformer = Pipeline(steps=[\n",
    "    ('imputer', SimpleImputer(strategy='most_frequent')),\n",
    "    ('encoder', OneHotEncoder(handle_unknown='ignore'))])\n",
    "\n",
    "preprocessor = ColumnTransformer(\n",
    "    transformers=[\n",
    "        ('num', numeric_transformer, numeric_features),\n",
    "        ('cat', categorical_transformer, categorical_features)])"
   ],
   "id": "2e4ba1a01330d767",
   "outputs": [],
   "execution_count": 674
  },
  {
   "metadata": {},
   "cell_type": "markdown",
   "source": "Splitting the data into training and testing sets",
   "id": "4d7bd9af8b105e50"
  },
  {
   "metadata": {
    "ExecuteTime": {
     "end_time": "2024-06-27T17:35:09.103097Z",
     "start_time": "2024-06-27T17:35:09.017569Z"
    }
   },
   "cell_type": "code",
   "source": [
    "X_train, X_test, y_train, y_test = train_test_split(features, labels, test_size=0.2, random_state=42)\n",
    "X_train = preprocessor.fit_transform(X_train)\n",
    "X_test = preprocessor.transform(X_test)"
   ],
   "id": "bf9245ba8d86b912",
   "outputs": [],
   "execution_count": 675
  },
  {
   "metadata": {
    "ExecuteTime": {
     "end_time": "2024-06-27T17:35:09.111023Z",
     "start_time": "2024-06-27T17:35:09.105557Z"
    }
   },
   "cell_type": "code",
   "source": "print(X_train.shape, X_test.shape)",
   "id": "afdd2c7d8c5a9a80",
   "outputs": [
    {
     "name": "stdout",
     "output_type": "stream",
     "text": [
      "(816, 80) (204, 80)\n"
     ]
    }
   ],
   "execution_count": 676
  },
  {
   "metadata": {},
   "cell_type": "markdown",
   "source": "Using SimpleImputer to fill missing values",
   "id": "51be0f35de286256"
  },
  {
   "metadata": {
    "ExecuteTime": {
     "end_time": "2024-06-27T17:35:09.337317Z",
     "start_time": "2024-06-27T17:35:09.138376Z"
    }
   },
   "cell_type": "code",
   "source": [
    "imputer = SimpleImputer(strategy='mean')\n",
    "\n",
    "imputer.fit(X_train)\n",
    "X_train_imputed = imputer.transform(X_train)\n",
    "X_test_imputed = imputer.transform(X_test)\n",
    "\n",
    "imputer.fit(features)\n",
    "test_imputed = imputer.transform(test)"
   ],
   "id": "c1bb9b7438916b45",
   "outputs": [
    {
     "ename": "ValueError",
     "evalue": "Cannot use mean strategy with non-numeric data:\ncould not convert string to float: 'RH'",
     "output_type": "error",
     "traceback": [
      "\u001B[0;31m---------------------------------------------------------------------------\u001B[0m",
      "\u001B[0;31mValueError\u001B[0m                                Traceback (most recent call last)",
      "Cell \u001B[0;32mIn[677], line 8\u001B[0m\n\u001B[1;32m      5\u001B[0m X_test_imputed \u001B[38;5;241m=\u001B[39m imputer\u001B[38;5;241m.\u001B[39mtransform(X_test)\n\u001B[1;32m      7\u001B[0m imputer\u001B[38;5;241m.\u001B[39mfit(features)\n\u001B[0;32m----> 8\u001B[0m test_imputed \u001B[38;5;241m=\u001B[39m \u001B[43mimputer\u001B[49m\u001B[38;5;241;43m.\u001B[39;49m\u001B[43mtransform\u001B[49m\u001B[43m(\u001B[49m\u001B[43mtest\u001B[49m\u001B[43m)\u001B[49m\n",
      "File \u001B[0;32m~/PycharmProjects/Kaggle/HousePrice/housepriceenv/lib/python3.11/site-packages/sklearn/utils/_set_output.py:313\u001B[0m, in \u001B[0;36m_wrap_method_output.<locals>.wrapped\u001B[0;34m(self, X, *args, **kwargs)\u001B[0m\n\u001B[1;32m    311\u001B[0m \u001B[38;5;129m@wraps\u001B[39m(f)\n\u001B[1;32m    312\u001B[0m \u001B[38;5;28;01mdef\u001B[39;00m \u001B[38;5;21mwrapped\u001B[39m(\u001B[38;5;28mself\u001B[39m, X, \u001B[38;5;241m*\u001B[39margs, \u001B[38;5;241m*\u001B[39m\u001B[38;5;241m*\u001B[39mkwargs):\n\u001B[0;32m--> 313\u001B[0m     data_to_wrap \u001B[38;5;241m=\u001B[39m \u001B[43mf\u001B[49m\u001B[43m(\u001B[49m\u001B[38;5;28;43mself\u001B[39;49m\u001B[43m,\u001B[49m\u001B[43m \u001B[49m\u001B[43mX\u001B[49m\u001B[43m,\u001B[49m\u001B[43m \u001B[49m\u001B[38;5;241;43m*\u001B[39;49m\u001B[43margs\u001B[49m\u001B[43m,\u001B[49m\u001B[43m \u001B[49m\u001B[38;5;241;43m*\u001B[39;49m\u001B[38;5;241;43m*\u001B[39;49m\u001B[43mkwargs\u001B[49m\u001B[43m)\u001B[49m\n\u001B[1;32m    314\u001B[0m     \u001B[38;5;28;01mif\u001B[39;00m \u001B[38;5;28misinstance\u001B[39m(data_to_wrap, \u001B[38;5;28mtuple\u001B[39m):\n\u001B[1;32m    315\u001B[0m         \u001B[38;5;66;03m# only wrap the first output for cross decomposition\u001B[39;00m\n\u001B[1;32m    316\u001B[0m         return_tuple \u001B[38;5;241m=\u001B[39m (\n\u001B[1;32m    317\u001B[0m             _wrap_data_with_container(method, data_to_wrap[\u001B[38;5;241m0\u001B[39m], X, \u001B[38;5;28mself\u001B[39m),\n\u001B[1;32m    318\u001B[0m             \u001B[38;5;241m*\u001B[39mdata_to_wrap[\u001B[38;5;241m1\u001B[39m:],\n\u001B[1;32m    319\u001B[0m         )\n",
      "File \u001B[0;32m~/PycharmProjects/Kaggle/HousePrice/housepriceenv/lib/python3.11/site-packages/sklearn/impute/_base.py:569\u001B[0m, in \u001B[0;36mSimpleImputer.transform\u001B[0;34m(self, X)\u001B[0m\n\u001B[1;32m    554\u001B[0m \u001B[38;5;250m\u001B[39m\u001B[38;5;124;03m\"\"\"Impute all missing values in `X`.\u001B[39;00m\n\u001B[1;32m    555\u001B[0m \n\u001B[1;32m    556\u001B[0m \u001B[38;5;124;03mParameters\u001B[39;00m\n\u001B[0;32m   (...)\u001B[0m\n\u001B[1;32m    565\u001B[0m \u001B[38;5;124;03m    `X` with imputed values.\u001B[39;00m\n\u001B[1;32m    566\u001B[0m \u001B[38;5;124;03m\"\"\"\u001B[39;00m\n\u001B[1;32m    567\u001B[0m check_is_fitted(\u001B[38;5;28mself\u001B[39m)\n\u001B[0;32m--> 569\u001B[0m X \u001B[38;5;241m=\u001B[39m \u001B[38;5;28;43mself\u001B[39;49m\u001B[38;5;241;43m.\u001B[39;49m\u001B[43m_validate_input\u001B[49m\u001B[43m(\u001B[49m\u001B[43mX\u001B[49m\u001B[43m,\u001B[49m\u001B[43m \u001B[49m\u001B[43min_fit\u001B[49m\u001B[38;5;241;43m=\u001B[39;49m\u001B[38;5;28;43;01mFalse\u001B[39;49;00m\u001B[43m)\u001B[49m\n\u001B[1;32m    570\u001B[0m statistics \u001B[38;5;241m=\u001B[39m \u001B[38;5;28mself\u001B[39m\u001B[38;5;241m.\u001B[39mstatistics_\n\u001B[1;32m    572\u001B[0m \u001B[38;5;28;01mif\u001B[39;00m X\u001B[38;5;241m.\u001B[39mshape[\u001B[38;5;241m1\u001B[39m] \u001B[38;5;241m!=\u001B[39m statistics\u001B[38;5;241m.\u001B[39mshape[\u001B[38;5;241m0\u001B[39m]:\n",
      "File \u001B[0;32m~/PycharmProjects/Kaggle/HousePrice/housepriceenv/lib/python3.11/site-packages/sklearn/impute/_base.py:347\u001B[0m, in \u001B[0;36mSimpleImputer._validate_input\u001B[0;34m(self, X, in_fit)\u001B[0m\n\u001B[1;32m    341\u001B[0m \u001B[38;5;28;01mif\u001B[39;00m \u001B[38;5;124m\"\u001B[39m\u001B[38;5;124mcould not convert\u001B[39m\u001B[38;5;124m\"\u001B[39m \u001B[38;5;129;01min\u001B[39;00m \u001B[38;5;28mstr\u001B[39m(ve):\n\u001B[1;32m    342\u001B[0m     new_ve \u001B[38;5;241m=\u001B[39m \u001B[38;5;167;01mValueError\u001B[39;00m(\n\u001B[1;32m    343\u001B[0m         \u001B[38;5;124m\"\u001B[39m\u001B[38;5;124mCannot use \u001B[39m\u001B[38;5;132;01m{}\u001B[39;00m\u001B[38;5;124m strategy with non-numeric data:\u001B[39m\u001B[38;5;130;01m\\n\u001B[39;00m\u001B[38;5;132;01m{}\u001B[39;00m\u001B[38;5;124m\"\u001B[39m\u001B[38;5;241m.\u001B[39mformat(\n\u001B[1;32m    344\u001B[0m             \u001B[38;5;28mself\u001B[39m\u001B[38;5;241m.\u001B[39mstrategy, ve\n\u001B[1;32m    345\u001B[0m         )\n\u001B[1;32m    346\u001B[0m     )\n\u001B[0;32m--> 347\u001B[0m     \u001B[38;5;28;01mraise\u001B[39;00m new_ve \u001B[38;5;28;01mfrom\u001B[39;00m \u001B[38;5;28;01mNone\u001B[39;00m\n\u001B[1;32m    348\u001B[0m \u001B[38;5;28;01melse\u001B[39;00m:\n\u001B[1;32m    349\u001B[0m     \u001B[38;5;28;01mraise\u001B[39;00m ve\n",
      "\u001B[0;31mValueError\u001B[0m: Cannot use mean strategy with non-numeric data:\ncould not convert string to float: 'RH'"
     ]
    }
   ],
   "execution_count": 677
  },
  {
   "metadata": {},
   "cell_type": "code",
   "source": "print(X_train_imputed.shape, X_test_imputed.shape)",
   "id": "f6d66c8879c6ec2f",
   "outputs": [],
   "execution_count": null
  },
  {
   "metadata": {},
   "cell_type": "markdown",
   "source": "# Using Regression Models",
   "id": "351663b2f26607d7"
  },
  {
   "metadata": {},
   "cell_type": "markdown",
   "source": "Using XGBRegressor model",
   "id": "79f6c703c7da0ad4"
  },
  {
   "metadata": {},
   "cell_type": "code",
   "source": [
    "model = XGBRegressor()\n",
    "model.fit(X_train_imputed, y_train)\n",
    "predictions = model.predict(X_test_imputed)\n",
    "r2 = r2_score(y_test, predictions)"
   ],
   "id": "13320081653a7089",
   "outputs": [],
   "execution_count": null
  },
  {
   "metadata": {
    "ExecuteTime": {
     "end_time": "2024-06-27T17:35:09.443259Z",
     "start_time": "2024-06-27T17:35:09.408955Z"
    }
   },
   "cell_type": "code",
   "source": [
    "# sample_submission = pd.read_csv('/kaggle/input/house-prices-advanced-regression-techniques/sample_submission.csv')\n",
    "sample_submission = pd.read_csv('data/sample_submission.csv')\n",
    "\n",
    "test_predictions = model.predict(test_imputed)\n",
    "\n",
    "print(len(sample_submission), len(test_predictions))\n",
    "\n",
    "sample_submission['SalePrice'] = predictions\n",
    "\n",
    "sample_submission.to_csv('submission.csv', index=False)"
   ],
   "id": "cb8759cecd1b4b84",
   "outputs": [
    {
     "ename": "NameError",
     "evalue": "name 'test_imputed' is not defined",
     "output_type": "error",
     "traceback": [
      "\u001B[0;31m---------------------------------------------------------------------------\u001B[0m",
      "\u001B[0;31mNameError\u001B[0m                                 Traceback (most recent call last)",
      "Cell \u001B[0;32mIn[678], line 4\u001B[0m\n\u001B[1;32m      1\u001B[0m \u001B[38;5;66;03m# sample_submission = pd.read_csv('/kaggle/input/house-prices-advanced-regression-techniques/sample_submission.csv')\u001B[39;00m\n\u001B[1;32m      2\u001B[0m sample_submission \u001B[38;5;241m=\u001B[39m pd\u001B[38;5;241m.\u001B[39mread_csv(\u001B[38;5;124m'\u001B[39m\u001B[38;5;124mdata/sample_submission.csv\u001B[39m\u001B[38;5;124m'\u001B[39m)\n\u001B[0;32m----> 4\u001B[0m test_predictions \u001B[38;5;241m=\u001B[39m model\u001B[38;5;241m.\u001B[39mpredict(\u001B[43mtest_imputed\u001B[49m)\n\u001B[1;32m      6\u001B[0m \u001B[38;5;28mprint\u001B[39m(\u001B[38;5;28mlen\u001B[39m(sample_submission), \u001B[38;5;28mlen\u001B[39m(test_predictions))\n\u001B[1;32m      8\u001B[0m sample_submission[\u001B[38;5;124m'\u001B[39m\u001B[38;5;124mSalePrice\u001B[39m\u001B[38;5;124m'\u001B[39m] \u001B[38;5;241m=\u001B[39m predictions\n",
      "\u001B[0;31mNameError\u001B[0m: name 'test_imputed' is not defined"
     ]
    }
   ],
   "execution_count": 678
  }
 ],
 "metadata": {
  "kernelspec": {
   "display_name": "Python 3",
   "language": "python",
   "name": "python3"
  },
  "language_info": {
   "codemirror_mode": {
    "name": "ipython",
    "version": 2
   },
   "file_extension": ".py",
   "mimetype": "text/x-python",
   "name": "python",
   "nbconvert_exporter": "python",
   "pygments_lexer": "ipython2",
   "version": "2.7.6"
  }
 },
 "nbformat": 4,
 "nbformat_minor": 5
}
