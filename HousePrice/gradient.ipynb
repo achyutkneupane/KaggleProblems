{
 "metadata": {
  "kernelspec": {
   "display_name": "Python 3",
   "language": "python",
   "name": "python3"
  },
  "language_info": {
   "name": "python",
   "version": "3.10.13",
   "mimetype": "text/x-python",
   "codemirror_mode": {
    "name": "ipython",
    "version": 3
   },
   "pygments_lexer": "ipython3",
   "nbconvert_exporter": "python",
   "file_extension": ".py"
  },
  "kaggle": {
   "accelerator": "none",
   "dataSources": [
    {
     "sourceId": 5407,
     "databundleVersionId": 868283,
     "sourceType": "competition"
    }
   ],
   "dockerImageVersionId": 30732,
   "isInternetEnabled": true,
   "language": "python",
   "sourceType": "notebook",
   "isGpuEnabled": false
  }
 },
 "nbformat_minor": 4,
 "nbformat": 4,
 "cells": [
  {
   "cell_type": "code",
   "source": [
    "import tensorflow_decision_forests as tfdf\n",
    "import pandas as pd\n",
    "import numpy as np"
   ],
   "metadata": {
    "execution": {
     "iopub.status.busy": "2024-06-27T18:55:05.006756Z",
     "iopub.execute_input": "2024-06-27T18:55:05.007389Z",
     "iopub.status.idle": "2024-06-27T18:55:05.014409Z",
     "shell.execute_reply.started": "2024-06-27T18:55:05.007337Z",
     "shell.execute_reply": "2024-06-27T18:55:05.012923Z"
    },
    "trusted": true
   },
   "outputs": [],
   "execution_count": null
  },
  {
   "cell_type": "code",
   "source": [
    "# train_file_path = \"/kaggle/input/house-prices-advanced-regression-techniques/train.csv\"\n",
    "# test_file_path = \"/kaggle/input/house-prices-advanced-regression-techniques/test.csv\"\n",
    "\n",
    "train_file_path = \"data/train.csv\"\n",
    "test_file_path = \"data/test.csv\""
   ],
   "metadata": {
    "execution": {
     "iopub.status.busy": "2024-06-27T18:55:05.016789Z",
     "iopub.execute_input": "2024-06-27T18:55:05.017252Z",
     "iopub.status.idle": "2024-06-27T18:55:05.027388Z",
     "shell.execute_reply.started": "2024-06-27T18:55:05.017206Z",
     "shell.execute_reply": "2024-06-27T18:55:05.026041Z"
    },
    "trusted": true
   },
   "outputs": [],
   "execution_count": null
  },
  {
   "cell_type": "code",
   "source": "dataset_df = pd.read_csv(train_file_path)\ndataset_df = dataset_df.drop('Id', axis=1)",
   "metadata": {
    "execution": {
     "iopub.status.busy": "2024-06-27T18:55:05.028850Z",
     "iopub.execute_input": "2024-06-27T18:55:05.029320Z",
     "iopub.status.idle": "2024-06-27T18:55:05.072760Z",
     "shell.execute_reply.started": "2024-06-27T18:55:05.029270Z",
     "shell.execute_reply": "2024-06-27T18:55:05.071512Z"
    },
    "trusted": true
   },
   "outputs": [],
   "execution_count": null
  },
  {
   "cell_type": "code",
   "source": [
    "Q1 = dataset_df['SalePrice'].quantile(0.25)\n",
    "Q3 = dataset_df['SalePrice'].quantile(0.75)\n",
    "IQR = Q3 - Q1"
   ],
   "metadata": {
    "execution": {
     "iopub.status.busy": "2024-06-27T18:55:05.074145Z",
     "iopub.execute_input": "2024-06-27T18:55:05.074522Z",
     "iopub.status.idle": "2024-06-27T18:55:05.083690Z",
     "shell.execute_reply.started": "2024-06-27T18:55:05.074492Z",
     "shell.execute_reply": "2024-06-27T18:55:05.082157Z"
    },
    "trusted": true
   },
   "outputs": [],
   "execution_count": null
  },
  {
   "cell_type": "code",
   "source": "lower_bound = Q1 - 0.3 * IQR\nupper_bound = Q3 + 0.3 * IQR\n\ndataset_df = dataset_df[(dataset_df['SalePrice'] >= lower_bound) & (dataset_df['SalePrice'] <= upper_bound)]",
   "metadata": {
    "execution": {
     "iopub.status.busy": "2024-06-27T18:55:05.087770Z",
     "iopub.execute_input": "2024-06-27T18:55:05.088219Z",
     "iopub.status.idle": "2024-06-27T18:55:05.099529Z",
     "shell.execute_reply.started": "2024-06-27T18:55:05.088156Z",
     "shell.execute_reply": "2024-06-27T18:55:05.098353Z"
    },
    "trusted": true
   },
   "outputs": [],
   "execution_count": null
  },
  {
   "cell_type": "code",
   "source": "def remove_outliers(data, column, m=3):\n    mean = np.mean(data[column])\n    std_dev = np.std(data[column])\n    lower_bound = mean - m * std_dev\n    upper_bound = mean + m * std_dev\n    return lower_bound, upper_bound",
   "metadata": {
    "execution": {
     "iopub.status.busy": "2024-06-27T18:55:05.101279Z",
     "iopub.execute_input": "2024-06-27T18:55:05.102967Z",
     "iopub.status.idle": "2024-06-27T18:55:05.109591Z",
     "shell.execute_reply.started": "2024-06-27T18:55:05.102912Z",
     "shell.execute_reply": "2024-06-27T18:55:05.108539Z"
    },
    "trusted": true
   },
   "outputs": [],
   "execution_count": null
  },
  {
   "cell_type": "code",
   "source": [
    "columns = [\"YearBuilt\", \"GarageYrBlt\", \"GrLivArea\", \"GarageArea\", \"OverallQual\", \"SalePrice\"]\n",
    "\n",
    "m = 3\n",
    "\n",
    "for column in columns:\n",
    "    lower_bound, upper_bound = remove_outliers(dataset_df, column, m)\n",
    "    dataset_df = dataset_df[(dataset_df[column] >= lower_bound) & (dataset_df[column] <= upper_bound)]\n",
    "    \n",
    "dataset_df.reset_index(drop=True, inplace=True)"
   ],
   "metadata": {
    "execution": {
     "iopub.status.busy": "2024-06-27T18:55:05.111042Z",
     "iopub.execute_input": "2024-06-27T18:55:05.111476Z",
     "iopub.status.idle": "2024-06-27T18:55:05.138469Z",
     "shell.execute_reply.started": "2024-06-27T18:55:05.111443Z",
     "shell.execute_reply": "2024-06-27T18:55:05.136849Z"
    },
    "trusted": true
   },
   "outputs": [],
   "execution_count": null
  },
  {
   "cell_type": "code",
   "source": "label = 'SalePrice'",
   "metadata": {
    "execution": {
     "iopub.status.busy": "2024-06-27T18:55:05.139854Z",
     "iopub.execute_input": "2024-06-27T18:55:05.140260Z",
     "iopub.status.idle": "2024-06-27T18:55:05.146104Z",
     "shell.execute_reply.started": "2024-06-27T18:55:05.140222Z",
     "shell.execute_reply": "2024-06-27T18:55:05.144866Z"
    },
    "trusted": true
   },
   "outputs": [],
   "execution_count": null
  },
  {
   "cell_type": "code",
   "source": "features = dataset_df.drop(columns=[label])\nlabels = dataset_df[label]",
   "metadata": {
    "execution": {
     "iopub.status.busy": "2024-06-27T18:55:05.147910Z",
     "iopub.execute_input": "2024-06-27T18:55:05.148469Z",
     "iopub.status.idle": "2024-06-27T18:55:05.160873Z",
     "shell.execute_reply.started": "2024-06-27T18:55:05.148424Z",
     "shell.execute_reply": "2024-06-27T18:55:05.159436Z"
    },
    "trusted": true
   },
   "outputs": [],
   "execution_count": null
  },
  {
   "cell_type": "code",
   "source": "numeric_features = features.select_dtypes(include=[np.number]).columns.tolist()\ncategorical_features = features.select_dtypes(exclude=[np.number]).columns.tolist()",
   "metadata": {
    "execution": {
     "iopub.status.busy": "2024-06-27T18:55:05.162360Z",
     "iopub.execute_input": "2024-06-27T18:55:05.162736Z",
     "iopub.status.idle": "2024-06-27T18:55:05.176604Z",
     "shell.execute_reply.started": "2024-06-27T18:55:05.162707Z",
     "shell.execute_reply": "2024-06-27T18:55:05.175083Z"
    },
    "trusted": true
   },
   "outputs": [],
   "execution_count": null
  },
  {
   "cell_type": "code",
   "source": "def split_dataset(dataset, test_ratio=0.30):\n  test_indices = np.random.rand(len(dataset)) < test_ratio\n  return dataset[~test_indices], dataset[test_indices]\n\ntrain_ds_pd, valid_ds_pd = split_dataset(dataset_df)",
   "metadata": {
    "execution": {
     "iopub.status.busy": "2024-06-27T18:55:05.247451Z",
     "iopub.execute_input": "2024-06-27T18:55:05.247893Z",
     "iopub.status.idle": "2024-06-27T18:55:05.257771Z",
     "shell.execute_reply.started": "2024-06-27T18:55:05.247847Z",
     "shell.execute_reply": "2024-06-27T18:55:05.256292Z"
    },
    "trusted": true
   },
   "outputs": [],
   "execution_count": null
  },
  {
   "cell_type": "code",
   "source": "train_ds = tfdf.keras.pd_dataframe_to_tf_dataset(train_ds_pd, label=label, task=tfdf.keras.Task.REGRESSION)\nvalid_ds = tfdf.keras.pd_dataframe_to_tf_dataset(valid_ds_pd, label=label, task=tfdf.keras.Task.REGRESSION)",
   "metadata": {
    "execution": {
     "iopub.status.busy": "2024-06-27T18:55:05.260368Z",
     "iopub.execute_input": "2024-06-27T18:55:05.260814Z",
     "iopub.status.idle": "2024-06-27T18:55:05.506512Z",
     "shell.execute_reply.started": "2024-06-27T18:55:05.260779Z",
     "shell.execute_reply": "2024-06-27T18:55:05.505220Z"
    },
    "trusted": true
   },
   "outputs": [],
   "execution_count": null
  },
  {
   "cell_type": "code",
   "source": "argument = tfdf.keras.AdvancedArguments(fail_on_non_keras_compatible_feature_name = False)",
   "metadata": {
    "execution": {
     "iopub.status.busy": "2024-06-27T18:55:05.508250Z",
     "iopub.execute_input": "2024-06-27T18:55:05.508625Z",
     "iopub.status.idle": "2024-06-27T18:55:05.514534Z",
     "shell.execute_reply.started": "2024-06-27T18:55:05.508592Z",
     "shell.execute_reply": "2024-06-27T18:55:05.513091Z"
    },
    "trusted": true
   },
   "outputs": [],
   "execution_count": null
  },
  {
   "cell_type": "code",
   "source": "rf = tfdf.keras.GradientBoostedTreesModel(num_trees=1000,task = tfdf.keras.Task.REGRESSION, advanced_arguments=argument)\nrf.compile(metrics=[\"mse\"])\n\nrf.fit(x=train_ds)",
   "metadata": {
    "execution": {
     "iopub.status.busy": "2024-06-27T18:55:05.516262Z",
     "iopub.execute_input": "2024-06-27T18:55:05.516717Z",
     "iopub.status.idle": "2024-06-27T18:55:09.240070Z",
     "shell.execute_reply.started": "2024-06-27T18:55:05.516674Z",
     "shell.execute_reply": "2024-06-27T18:55:09.238814Z"
    },
    "trusted": true
   },
   "outputs": [],
   "execution_count": null
  },
  {
   "cell_type": "code",
   "source": "evaluation = rf.evaluate(valid_ds)",
   "metadata": {
    "execution": {
     "iopub.status.busy": "2024-06-27T18:55:09.242966Z",
     "iopub.execute_input": "2024-06-27T18:55:09.244134Z",
     "iopub.status.idle": "2024-06-27T18:55:09.889288Z",
     "shell.execute_reply.started": "2024-06-27T18:55:09.244087Z",
     "shell.execute_reply": "2024-06-27T18:55:09.888009Z"
    },
    "trusted": true
   },
   "outputs": [],
   "execution_count": null
  },
  {
   "cell_type": "code",
   "source": "test_data = pd.read_csv(test_file_path)\nids = test_data.pop('Id')\n\ntest_ds = tfdf.keras.pd_dataframe_to_tf_dataset(\n    test_data,\n    task = tfdf.keras.Task.REGRESSION)\n\npreds = rf.predict(test_ds)\noutput = pd.DataFrame({'Id': ids,\n                       'SalePrice': preds.squeeze()})",
   "metadata": {
    "execution": {
     "iopub.status.busy": "2024-06-27T18:55:09.891054Z",
     "iopub.execute_input": "2024-06-27T18:55:09.891559Z",
     "iopub.status.idle": "2024-06-27T18:55:10.957485Z",
     "shell.execute_reply.started": "2024-06-27T18:55:09.891516Z",
     "shell.execute_reply": "2024-06-27T18:55:10.956153Z"
    },
    "trusted": true
   },
   "outputs": [],
   "execution_count": null
  },
  {
   "cell_type": "code",
   "source": [
    "# sample_submission_df = pd.read_csv('/kaggle/input/house-prices-advanced-regression-techniques/sample_submission.csv')\n",
    "sample_submission_df = pd.read_csv('data/sample_submission.csv')\n",
    "sample_submission_df['SalePrice'] = rf.predict(test_ds)\n",
    "# sample_submission_df.to_csv('/kaggle/working/submission.csv', index=False)\n",
    "sample_submission_df.to_csv('submission.csv', index=False)\n",
    "sample_submission_df.head()"
   ],
   "metadata": {
    "execution": {
     "iopub.status.busy": "2024-06-27T18:55:10.959106Z",
     "iopub.execute_input": "2024-06-27T18:55:10.959546Z",
     "iopub.status.idle": "2024-06-27T18:55:11.303513Z",
     "shell.execute_reply.started": "2024-06-27T18:55:10.959512Z",
     "shell.execute_reply": "2024-06-27T18:55:11.301972Z"
    },
    "trusted": true
   },
   "outputs": [],
   "execution_count": null
  }
 ]
}
