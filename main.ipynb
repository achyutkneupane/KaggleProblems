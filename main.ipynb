{
 "cells": [
  {
   "cell_type": "code",
   "id": "initial_id",
   "metadata": {
    "collapsed": true,
    "ExecuteTime": {
     "end_time": "2024-06-19T19:32:34.956645Z",
     "start_time": "2024-06-19T19:32:34.937023Z"
    }
   },
   "source": [
    "import pandas as pd\n",
    "import numpy as np\n",
    "from sklearn.ensemble import RandomForestClassifier\n",
    "from sklearn.model_selection import GridSearchCV"
   ],
   "outputs": [],
   "execution_count": 5
  },
  {
   "metadata": {
    "ExecuteTime": {
     "end_time": "2024-06-19T19:32:34.990996Z",
     "start_time": "2024-06-19T19:32:34.960962Z"
    }
   },
   "cell_type": "code",
   "source": [
    "pd_train_data = pd.read_csv(\"dataset/train.csv\")\n",
    "pd_test_data = pd.read_csv(\"dataset/test.csv\")"
   ],
   "id": "77898e225149a5eb",
   "outputs": [],
   "execution_count": 6
  },
  {
   "metadata": {
    "ExecuteTime": {
     "end_time": "2024-06-19T19:32:34.994485Z",
     "start_time": "2024-06-19T19:32:34.991963Z"
    }
   },
   "cell_type": "code",
   "source": [
    "def median_if_not_null(df, column):\n",
    "    if not df[column].isnull().all():\n",
    "        df[column] = df[column].fillna(df[column].median())\n",
    "    else:\n",
    "        df[column] = df[column].replace(0, np.nan)\n",
    "        df[column] = df[column].fillna(df[column].median())"
   ],
   "id": "21d74a7778a82679",
   "outputs": [],
   "execution_count": 7
  },
  {
   "metadata": {
    "ExecuteTime": {
     "end_time": "2024-06-19T19:32:35.000546Z",
     "start_time": "2024-06-19T19:32:34.995834Z"
    }
   },
   "cell_type": "code",
   "source": [
    "def main():\n",
    "    train_data = pd_train_data.drop([\n",
    "        \"PassengerId\", \"Name\", \"Ticket\", \"Cabin\"\n",
    "    ], axis=1)\n",
    "    test_data = pd_test_data.drop([\"Name\", \"Ticket\", \"Cabin\"], axis=1)\n",
    "\n",
    "    y = train_data[\"Survived\"]\n",
    "\n",
    "    for df in [train_data, test_data]:\n",
    "        median_if_not_null(df, \"Fare\")\n",
    "        median_if_not_null(df, \"Age\")\n",
    "\n",
    "        df[\"Embarked\"] = df[\"Embarked\"].fillna(df[\"Embarked\"].mode()[0])\n",
    "        df[\"FamilySize\"] = df[\"SibSp\"] + df[\"Parch\"] + 1\n",
    "        df[\"IsAlone\"] = 0\n",
    "        df.loc[df[\"FamilySize\"] == 1, \"IsAlone\"] = 1\n",
    "        df[\"Sex\"] = df[\"Sex\"].map({'male': 0, 'female': 1})\n",
    "        df[\"Embarked\"] = df[\"Embarked\"].map({'S': 0, 'C': 1, 'Q': 2})\n",
    "\n",
    "    features = [\"Pclass\", \"Sex\", \"SibSp\", \"Parch\", \"Age\", \"Fare\", \"Embarked\", \"FamilySize\", \"IsAlone\"]\n",
    "    X = pd.get_dummies(train_data[features])\n",
    "    X_test = pd.get_dummies(test_data[features])\n",
    "\n",
    "    param_grid = {\n",
    "        'n_estimators': [100, 200, 300],\n",
    "        'max_depth': [5, 10, 15],\n",
    "        'min_samples_split': [2, 5, 10],\n",
    "    }\n",
    "\n",
    "    grid_search = GridSearchCV(\n",
    "        estimator=RandomForestClassifier(),\n",
    "        param_grid=param_grid,\n",
    "        cv=5\n",
    "    )\n",
    "\n",
    "    grid_search.fit(X, y)\n",
    "    print(grid_search.best_params_)\n",
    "    model = grid_search.best_estimator_\n",
    "\n",
    "    predictions = model.predict(X_test)\n",
    "    output = pd.DataFrame({'PassengerId': test_data.PassengerId, 'Survived': predictions})\n",
    "    output.to_csv('submission.csv', index=False)"
   ],
   "id": "c241953a6b41cf64",
   "outputs": [],
   "execution_count": 8
  },
  {
   "metadata": {
    "ExecuteTime": {
     "end_time": "2024-06-19T19:32:53.844680Z",
     "start_time": "2024-06-19T19:32:35.001301Z"
    }
   },
   "cell_type": "code",
   "source": [
    "if __name__ == \"__main__\":\n",
    "    main()"
   ],
   "id": "be93dcc9940f8b4d",
   "outputs": [
    {
     "name": "stdout",
     "output_type": "stream",
     "text": [
      "{'max_depth': 15, 'min_samples_split': 5, 'n_estimators': 100}\n"
     ]
    }
   ],
   "execution_count": 9
  }
 ],
 "metadata": {
  "kernelspec": {
   "display_name": "Python 3",
   "language": "python",
   "name": "python3"
  },
  "language_info": {
   "codemirror_mode": {
    "name": "ipython",
    "version": 2
   },
   "file_extension": ".py",
   "mimetype": "text/x-python",
   "name": "python",
   "nbconvert_exporter": "python",
   "pygments_lexer": "ipython2",
   "version": "2.7.6"
  }
 },
 "nbformat": 4,
 "nbformat_minor": 5
}
